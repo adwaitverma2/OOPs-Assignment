{
  "nbformat": 4,
  "nbformat_minor": 0,
  "metadata": {
    "colab": {
      "provenance": []
    },
    "kernelspec": {
      "name": "python3",
      "display_name": "Python 3"
    },
    "language_info": {
      "name": "python"
    }
  },
  "cells": [
    {
      "cell_type": "markdown",
      "source": [
        "# 1. What is Object-Oriented Programming (OOP)?\n",
        " -> Object-Oriented Programming or OOPs refers to languages that use objects in programming.\n",
        "\n",
        " -> OOP makes code easier to understand, reuse, and maintain, especially for large and complex programs.\n",
        "\n",
        "-> It is based on key concepts like encapsulation, inheritance, abstraction, and polymorphism.\n",
        "\n",
        "-> Languages like Java, Python, C++, and C# support OOP and are widely used in software development."
      ],
      "metadata": {
        "id": "K_b2Q5dP4w6p"
      }
    },
    {
      "cell_type": "markdown",
      "source": [
        "# 2. What is a class in OOP?\n",
        "\n",
        "-> A class is a blueprint used to create objects in object-oriented programming.\n",
        "\n",
        "-> Classes are created using class keyword.\n",
        "\n",
        "-> Attributes are the variables that belong to a class.\n",
        "\n",
        "Example:\n",
        "```\n",
        "#define a class\n",
        "class Dog:\n",
        "    sound = \"bark\"  # class attribute\n",
        "```\n"
      ],
      "metadata": {
        "id": "SZ8w1Aor6byR"
      }
    },
    {
      "cell_type": "markdown",
      "source": [
        "# 3. What is an object in OOP?\n",
        "\n",
        "-> An object is a specific instance of a class.\n",
        "\n",
        "-> It has attributes (data) and methods (behavior) defined by its class\n",
        "\n",
        "-> You can create many objects from the same class, each with different data.\n",
        "```\n",
        "class Dog:\n",
        "    sound = \"bark\"\n",
        "\n",
        "# Create an object from the class\n",
        "dog1 = Dog()\n",
        "\n",
        "# Access the class attribute\n",
        "print(dog1.sound)\n",
        "```"
      ],
      "metadata": {
        "id": "LBqcEg_J_l-h"
      }
    },
    {
      "cell_type": "markdown",
      "source": [
        "# 4. What is the difference between abstraction and encapsulation?\n",
        "\n",
        "**Abstraction**\n",
        "\n",
        "Abstraction means hiding the complex implementation details and showing only the essential features to the user.\n",
        "\n",
        "**Key Points**\n",
        "Focuses on what an object does, not how it does it.\n",
        "\n",
        "Achieved using abstract classes or interfaces in most languages.\n",
        "\n",
        "Helps reduce complexity by hiding internal logic.\n",
        "\n",
        "Promotes code reusability and flexibility.\n",
        "\n",
        "Example: When you drive a car, you use the steering wheel and pedals (interface) without knowing the engine mechanism (internal logic).\n",
        "\n",
        "**Encapsulation**\n",
        "\n",
        "Encapsulation means binding data and methods that operate on that data into a single unit, and restricting direct access to some components.\n",
        "\n",
        "**Key Points**\n",
        "Focuses on how data is protected and bundled.\n",
        "\n",
        "Achieved using private and public access modifiers.\n",
        "\n",
        "Helps in data hiding and maintaining control over data.\n",
        "\n",
        "Makes the class a self-contained unit.\n",
        "\n",
        "Example: You can't directly change your bank balance from outside the system – it's protected via encapsulation.\n",
        "\n"
      ],
      "metadata": {
        "id": "kbJgX0FiJX5Q"
      }
    },
    {
      "cell_type": "markdown",
      "source": [
        "# 5. What are dunder methods in Python?\n",
        "\n",
        "-> Python Magic methods are the methods starting and ending with double underscores '__'.\n",
        "\n",
        "-> They are defined by built-in classes in Python and commonly used for operator overloading.\n",
        "\n",
        "-> They are also called Dunder methods, Dunder here means \"Double Under (Underscores)\"\n",
        "\n",
        "**#Dunder or Magic Methods in Python**\n",
        "\n",
        "1. __init__ **method**\n",
        "\n",
        "      The __init__ method for initialization is invoked without any call, when an instance of a class is created, like constructors in certain other programming languages such as C++, Java, C#, PHP, etc.\n",
        "\n",
        "2. __repr__ **method**\n",
        "\n",
        "     This method in Python defines how an object is presented as a string.\n",
        "\n",
        "3. __add__ **method**\n",
        "\n",
        "    This method in Python defines how the objects of a class will be added together. It is also known as overloaded addition operator.\n",
        "\n"
      ],
      "metadata": {
        "id": "3BYEKEQhLFQc"
      }
    },
    {
      "cell_type": "markdown",
      "source": [
        "# 6. Explain the concept of inheritance in OOP ?\n",
        "\n",
        "-> Inheritance is a mechanism where one class (child) inherits properties and behaviors (methods) from another class (parent).\n",
        "\n",
        "-> It promotes code reuse and avoids duplication.\n",
        "\n",
        "-> The child class can use, extend, or override the features of the parent class.\n",
        "\n",
        "-> Python supports different types of inheritance.\n",
        "\n",
        "1. Single Inheritance: A child class inherits from one parent class.\n",
        "\n",
        "2. Multiple Inheritance: A child class inherits from more than one parent class.\n",
        "\n",
        "3. Multilevel Inheritance: A class is derived from a class which is also derived from another class.\n",
        "\n",
        "4. Hierarchical Inheritance: Multiple classes inherit from a single parent class.\n",
        "\n",
        "5. Hybrid Inheritance: A combination of more than one type of inheritance.\n"
      ],
      "metadata": {
        "id": "RT7aPhs-nDw7"
      }
    },
    {
      "cell_type": "markdown",
      "source": [
        "#7. What is polymorphism in OOP?\n",
        "-> Polymorphism means \"many forms.\"\n",
        "\n",
        "-> It allows objects of different classes to respond to the same method name in different ways.\n",
        "\n",
        "-> It promotes flexibility and reusability in code.\n",
        "\n",
        "-> In Python, polymorphism is often achieved through method overriding or operator overloading.\n",
        "\n",
        "-> It is a core concept in OOP along with inheritance, encapsulation, and abstraction."
      ],
      "metadata": {
        "id": "6gd2iZ5KoSoh"
      }
    },
    {
      "cell_type": "markdown",
      "source": [
        "# 8.How is encapsulation achieved in Python?\n",
        "\n",
        "-> Encapsulation means hiding internal details of a class and only exposing what’s necessary. It helps to protect important data from being changed directly and keeps the code secure and organized.\n",
        "\n",
        "-> In Python, encapsulation is achieved using access specifiers like:\n",
        "\n",
        "     public-> accessible from anywhere.\n",
        "\n",
        "     protected-> should not be accessed directly outside the class.\n",
        "\n",
        "     private-> name mangling is used to make it harder to access outside the class.\n",
        "\n",
        "->It helps in data protection, preventing accidental modification."
      ],
      "metadata": {
        "id": "XcgS3c8ypR1N"
      }
    },
    {
      "cell_type": "markdown",
      "source": [
        "# 9. What is a constructor in Python?\n",
        "-> In Python, a constructor is a special method that is called automatically when an object is created from a class.\n",
        "\n",
        "->  Its main role is to initialize the object by setting up its attributes or state.\n",
        "\n",
        "__new__ Method\n",
        "\n",
        "This method is responsible for creating a new instance of a class. It allocates memory and returns the new object. It is called before __init__.\n",
        "\n",
        "\n",
        "__init__ Method\n",
        "\n",
        "This method initializes the newly created instance and is commonly used as a constructor in Python. It is called immediately after the object is created by __new__ method and is responsible for initializing attributes of the instance.\n",
        "\n",
        "# Types of Constructors\n",
        "\n",
        "1. **Default Constructor**\n",
        "\n",
        "     A default constructor does not take any parameters other than self. It initializes the object with default attribute values.\n",
        "\n",
        "2. **Parameterized Constructor**\n",
        "\n",
        "     A parameterized constructor accepts arguments to initialize the object's attributes with specific values.\n",
        "\n"
      ],
      "metadata": {
        "id": "prWKxfWiqiHQ"
      }
    },
    {
      "cell_type": "markdown",
      "source": [
        "# 10. What are class and static methods in Python?\n",
        "-> In Python, both class methods and static methods are used when you want to define behavior in a class that’s not directly tied to an instance. They help in designing reusable and scalable code.\n",
        "\n",
        "**Class Methods (@classmethod)**\n",
        "\n",
        "Defined using the @classmethod decorator.\n",
        "\n",
        "The first parameter is cls (refers to the class, not the instance).\n",
        "\n",
        "Can access or modify class variables.\n",
        "\n",
        "Cannot access instance (self) variables directly.\n",
        "\n",
        "**Static Methods (@staticmethod)**\n",
        "\n",
        "Defined using the @staticmethod decorator.\n",
        "\n",
        "Takes no self or cls parameter.\n",
        "\n",
        "Cannot access class or instance data.\n",
        "\n",
        "Behaves like a regular function but placed inside the class for logical grouping."
      ],
      "metadata": {
        "id": "Js-3oavmtDBx"
      }
    },
    {
      "cell_type": "markdown",
      "source": [
        "# 11. What is Method Overloading in Python?\n",
        "In many programming languages like C++ or Java, you can define multiple methods with the same name but different parameter lists. This concept is called method overloading.\n",
        "\n",
        "Python does not support method overloading by default. If you define multiple methods with the same name, only the latest definition will be used.\n",
        "\n",
        "```\n",
        "def product(a, b):\n",
        "    p = a * b\n",
        "    print(p)\n",
        "\n",
        "def product(a, b, c):\n",
        "    p = a * b*c\n",
        "    print(p)\n",
        "\n",
        "product(4, 5, 5)\n",
        "```"
      ],
      "metadata": {
        "id": "jLMQwPVLv1Zm"
      }
    },
    {
      "cell_type": "markdown",
      "source": [
        "# 12. What is Method Overriding in OOP?\n",
        "-> Method Overriding means redefining a method in the child class that is already present in the parent class.\n",
        "\n",
        "-> Used when a child wants to modify or extend the behavior of a method inherited from the parent.\n",
        "\n",
        "-> Common in inheritance.\n",
        "\n",
        "```\n",
        "class Animal:\n",
        "    def speak(self):\n",
        "        print(\"Animal speaks\")\n",
        "\n",
        "class Dog(Animal):\n",
        "    def speak(self):  # Overriding the parent method\n",
        "        print(\"Dog barks\")\n",
        "\n",
        "d = Dog()\n",
        "d.speak()   # Output: Dog barks\n",
        "```"
      ],
      "metadata": {
        "id": "zUcvxCwlw2Pi"
      }
    },
    {
      "cell_type": "markdown",
      "source": [
        "# 13. What is a property Decorator in Python?\n",
        "\n",
        "The @property decorator in Python is used to define getter methods that can be accessed like attributes, not like method calls.\n",
        "\n",
        "It lets you encapsulate private variables.\n",
        "\n",
        "Allows access to methods as if they are variables (without parentheses).\n",
        "\n",
        "Often used to compute values dynamically while hiding the method call.\n",
        "\n",
        "```\n",
        "class Circle:\n",
        "    def __init__(self, radius):\n",
        "        self._radius = radius\n",
        "\n",
        "    @property\n",
        "    def area(self):\n",
        "        return 3.14 * self._radius ** 2\n",
        "\n",
        "c = Circle(5)\n",
        "print(c.area)  # Output: 78.5 (notice: no parentheses used)\n",
        "\n",
        "\n",
        "```"
      ],
      "metadata": {
        "id": "cQsUNwoMxjBL"
      }
    },
    {
      "cell_type": "markdown",
      "source": [
        "#14. Why is polymorphism important in OOP+\n",
        "\n",
        "1. Improves Code Reusability\n",
        "You can write general code that works with different types of objects.\n",
        "\n",
        "     Example: A single draw() function can call draw() methods on Circle, Square, or Triangle classes.\n",
        "\n",
        "2. Supports Code Maintainability\n",
        "Code is easier to maintain and update, because you can make changes in child classes without touching the parent class logic.\n",
        "\n",
        "3. Increases Flexibility\n",
        "You can design systems that can grow and adapt easily without modifying the base structure.\n",
        "\n",
        "4. Promotes Interface-Based Programming\n",
        "Helps in defining abstract interfaces or base classes, while letting subclasses provide specific implementations.\n",
        "\n",
        "5. Enables Method Overriding\n",
        "You can define a method in a parent class and override it in the child class with a specific behavior."
      ],
      "metadata": {
        "id": "Dp98qud4ynvs"
      }
    },
    {
      "cell_type": "markdown",
      "source": [
        "# 15. What is an abstract class in Python?\n",
        "\n",
        "An abstract class in Python is a class that cannot be instantiated and is meant to be inherited by other classes. It provides a common interface or blueprint for its subclasses. Abstract classes are used to define methods that must be implemented in any derived class.\n",
        "\n",
        "-> Abstract classes define structure, not behavior.\n",
        "\n",
        "-> Use the @abstractmethod decorator to declare abstract methods.\n",
        "\n",
        "-> Any class with at least one abstract method becomes abstract.\n",
        "\n",
        "-> You cannot create objects from an abstract class.\n",
        "\n",
        "-> Subclasses must override all abstract methods to become concrete classes."
      ],
      "metadata": {
        "id": "sc8TYYA_y1r5"
      }
    },
    {
      "cell_type": "markdown",
      "source": [
        "# 16.What is the difference between a class variable and an instance variable\n",
        "\n",
        "**1. Belonging**\n",
        "\n",
        "Class Variable → Shared by all objects of the class.\n",
        "\n",
        "Instance Variable → Belongs to a specific object of the class.\n",
        "\n",
        "**2. Declaration**\n",
        "\n",
        "Class Variable is defined inside the class but outside any method.\n",
        "\n",
        "Instance Variable is defined inside the constructor (__init__) using self.\n",
        "\n",
        "**3. Access**\n",
        "\n",
        "Class Variable is accessed using the class name or self.\n",
        "\n",
        "Instance Variable is accessed using self.variable_name.\n",
        "\n",
        "**4. Storage**\n",
        "\n",
        "Class Variable → One copy exists and is shared across all instances.\n",
        "\n",
        "Instance Variable → Each object has its own copy of the variable.\n",
        "\n",
        "**5. Use Case**\n",
        "\n",
        "Class Variable is used for data that should be same for all objects (e.g., counter, tax rate).\n",
        "\n",
        "Instance Variable is used for data that is unique to each object (e.g., name, age)."
      ],
      "metadata": {
        "id": "0J9giMwgFdqd"
      }
    },
    {
      "cell_type": "markdown",
      "source": [
        "# 17 What is multiple inheritance in Python?\n",
        "\n",
        "Multiple Inheritance is a feature in object-oriented programming where a class can inherit from more than one parent class. This means the child class gets access to the attributes and methods of multiple base classes.\n",
        "\n",
        "\n",
        " When a class inherits from more than one class, it is called multiple inheritance.\n",
        "```\n",
        "class ChildClass(Parent1, Parent2):\n",
        "    pass\n",
        "```\n",
        "Python uses the Method Resolution Order (MRO) to decide which method or attribute to use when there’s a conflict (like both parents having the same method name).\n",
        "\n",
        "Helps in combining functionalities from different classes into a single class."
      ],
      "metadata": {
        "id": "NqGc71dIFqwa"
      }
    },
    {
      "cell_type": "markdown",
      "source": [
        "# 18. Explain the purpose of ‘’__str__’ and ‘__repr__’ ‘ methods in Python?\n",
        "\n",
        "Both __str__() and __repr__() are special methods (also called dunder methods) used to define how an object should be represented as a string.\n",
        "\n",
        "# __str__ Method\n",
        "\n",
        "Called by the built-in str() function or when you print the object.\n",
        "\n",
        "Meant to return a user-friendly and readable string.\n",
        "\n",
        "It’s useful for displaying information to end users.\n",
        "\n",
        "#__repr__ Method\n",
        "\n",
        "Called by the built-in repr() function or in interactive shell when you just type the object.\n",
        "\n",
        "Meant to return a developer-friendly string (ideally something that can recreate the object).\n",
        "\n",
        "Helps in debugging and logging."
      ],
      "metadata": {
        "id": "S3_JjAPUGRK7"
      }
    },
    {
      "cell_type": "markdown",
      "source": [
        "# 19. Explain the purpose of ‘’__str__’ and ‘__repr__’ ‘ methods in Python?\n",
        "\n",
        "**__str__ method**\n",
        "\n",
        "Purpose: To return a user-friendly string representation of an object.\n",
        "\n",
        "Used when: You call print(obj) or str(obj).\n",
        "\n",
        "Goal: Meant for the end-user to understand the object easily.\n",
        "\n",
        "\n",
        "**__repr__ method**\n",
        "\n",
        "Purpose: To return a developer-friendly string representation of an object.\n",
        "\n",
        "Used when: You call repr(obj) or just type the object in the Python shell.\n",
        "\n",
        "Goal: Meant for debugging or logging, often returns a string that can be used to recreate the object."
      ],
      "metadata": {
        "id": "qmLnj63nwn0e"
      }
    },
    {
      "cell_type": "markdown",
      "source": [
        "# 20. What is the significance of the ‘super()’ function in Python?\n",
        "\n",
        "super() is a built-in function that allows you to call methods from a parent (super) class in a child class.\n",
        "\n",
        "# Why is super() important?\n",
        "\n",
        "**1. Access Parent Class Methods**\n",
        "\n",
        "   It lets you call a method from the parent class without hardcoding the parent class name.\n",
        "\n",
        "   This makes your code more flexible and easier to maintain.\n",
        "\n",
        "**2. Supports Multiple Inheritance**\n",
        "\n",
        "In complex class hierarchies, super() ensures that the correct method from the method resolution order (MRO) is called.\n",
        "\n",
        "**3.Works with Encapsulation**\n",
        "\n",
        "Even if parent methods or attributes are not public, super() can still access them (as per Python's access rules)."
      ],
      "metadata": {
        "id": "qBPWvPv_Ju-A"
      }
    },
    {
      "cell_type": "markdown",
      "source": [
        "# 21. What is the significance of the __del__ method in Python?\n",
        "\n",
        "The __del__() method in Python is called a destructor. It is automatically invoked when an object is about to be destroyed, meaning when there are no more references to it.\n",
        "\n",
        "**1. Destructor Method**\n",
        "\n",
        "__del__() is used to define clean-up actions (like closing files, releasing resources) just before the object is deleted.\n",
        "\n",
        "**2. Automatic Call**\n",
        "\n",
        "It is called automatically by the Python garbage collector when an object is no longer needed.\n",
        "\n",
        "**3. Used for Resource Management**\n",
        "\n",
        "Helpful when you want to free up system resources such as memory, file handles, or network connections.\n",
        "\n",
        "**4. Use With Caution**\n",
        "\n",
        "Using __del__() incorrectly can cause unpredictable behavior, especially with circular references.\n",
        "\n",
        "**5. Runs Only Once**\n",
        "\n",
        "The method is called only once per object when it's destroyed. It won't run again even if __del__() is manually called."
      ],
      "metadata": {
        "id": "1suZoekJLU1S"
      }
    },
    {
      "cell_type": "markdown",
      "source": [
        "# 22. What is the difference between @staticmethod and @classmethod in Python?\n",
        "\n",
        "**@staticmethod**\n",
        "\n",
        "A static method does not take self or cls as the first argument.\n",
        "\n",
        "It doesn’t access or modify class or instance variables.\n",
        "\n",
        "Used for utility functions that are related to the class but don't need to access it.\n",
        "\n",
        "Can be called using the class name or the object.\n",
        "\n",
        "Declared using @staticmethod decorator.\n",
        "\n",
        "**@classmethod**\n",
        "\n",
        "A class method takes cls (class reference) as the first argument.\n",
        "\n",
        "It can access or modify class-level data (like class variables).\n",
        "\n",
        "Often used for factory methods that create instances in different ways.\n",
        "\n",
        "Can be called using the class name or the object.\n",
        "\n",
        "Declared using @classmethod decorator."
      ],
      "metadata": {
        "id": "JdFL8H3pMEkK"
      }
    },
    {
      "cell_type": "markdown",
      "source": [
        "# 23. How does polymorphism work in Python with inheritance?\n",
        "Polymorphism means \"many forms\". In OOP, it allows different classes to define the same method name with different behaviors.\n",
        "\n",
        "When inheritance is used, child classes can override methods of the parent class.\n",
        "\n",
        "This makes it possible to use the same interface for different underlying data types (i.e., objects of different classes).\n",
        "\n",
        "Python uses dynamic method resolution, so the method of the actual object (not the reference type) is called.\n",
        "\n",
        "It improves code reusability and makes the program easier to extend or modify."
      ],
      "metadata": {
        "id": "HkeElI3oN-vg"
      }
    },
    {
      "cell_type": "markdown",
      "source": [
        "# 24. What is method chaining in Python OOP?\n",
        "\n",
        "Method chaining is a programming technique where multiple methods are called on the same object in a single line, one after the other. This works when each method returns the object itself (usually self in Python).\n",
        "\n",
        "Method chaining improves code readability and conciseness.\n",
        "\n",
        "Each method must return self for chaining to work.\n",
        "\n",
        "Commonly used in builder patterns, data processing, and fluent interfaces.\n",
        "\n",
        "Python supports method chaining naturally with proper class design.\n",
        "\n",
        "Often used in libraries like pandas, matplotlib, etc."
      ],
      "metadata": {
        "id": "xX9XplXeOQLX"
      }
    },
    {
      "cell_type": "markdown",
      "source": [
        "# 25. What is the purpose of the __call__ method in Python?\n",
        "\n",
        "The __call__ method in Python allows an object to be called like a function.\n",
        "\n",
        "When you define __call__ in a class, you can use instances of that class as if they were regular functions.\n",
        "\n",
        "**Purpose of __call__:**\n",
        "\n",
        "Makes an object callable.\n",
        "\n",
        "Used to add function-like behavior to objects.\n",
        "\n",
        "Enhances flexibility and abstraction in object design.\n",
        "\n",
        "```\n",
        "class Greet:\n",
        "    def __init__(self, name):\n",
        "        self.name = name\n",
        "\n",
        "    def __call__(self):\n",
        "        print(f\"Hello, {self.name}!\")\n",
        "\n",
        "# Create object\n",
        "g = Greet(\"Riya\")\n",
        "\n",
        "# Call the object like a function\n",
        "g()\n",
        "\n",
        "\n",
        "```"
      ],
      "metadata": {
        "id": "vqWUnhHLRSBc"
      }
    },
    {
      "cell_type": "markdown",
      "source": [
        "# Practical Questions"
      ],
      "metadata": {
        "id": "fWuKy3g5xIt4"
      }
    },
    {
      "cell_type": "code",
      "source": [
        " #Create a parent class Animal with a method speak() that prints a generic message. Create a child class Dog that overrides the speak() method to print \"Bark!\".\n",
        "\n",
        "class Animal:\n",
        "    def speak(self):\n",
        "        print(\"Animal makes a sound\")\n",
        "\n",
        "class Dog(Animal):\n",
        "    def speak(self):\n",
        "        print(\"Bark!\")\n",
        "\n",
        "a = Animal()\n",
        "a.speak()\n",
        "\n",
        "d = Dog()\n",
        "d.speak()\n",
        "\n",
        "\n",
        ""
      ],
      "metadata": {
        "colab": {
          "base_uri": "https://localhost:8080/"
        },
        "id": "6YB3btBmFl_K",
        "outputId": "2d3bd1ef-0f9c-490c-d952-d2c983d3df5b"
      },
      "execution_count": 23,
      "outputs": [
        {
          "output_type": "stream",
          "name": "stdout",
          "text": [
            "Animal makes a sound\n",
            "Bark!\n"
          ]
        }
      ]
    },
    {
      "cell_type": "code",
      "source": [
        "#2. Write a program to create an abstract class Shape with a method area(). Derive classes Circle and Rectangle from it and implement the area() method in both.\n",
        "\n",
        "\n",
        "from abc import ABC, abstractmethod\n",
        "import math\n",
        "\n",
        "# Abstract class\n",
        "class Shape(ABC):\n",
        "\n",
        "    @abstractmethod\n",
        "    def area(self):\n",
        "        pass\n",
        "\n",
        "# Circle class derived from Shape\n",
        "class Circle(Shape):\n",
        "    def __init__(self, radius):\n",
        "        self.radius = radius\n",
        "\n",
        "    def area(self):\n",
        "        return math.pi * self.radius * self.radius\n",
        "\n",
        "# Rectangle class derived from Shape\n",
        "class Rectangle(Shape):\n",
        "    def __init__(self, length, width):\n",
        "        self.length = length\n",
        "        self.width = width\n",
        "\n",
        "    def area(self):\n",
        "        return self.length * self.width\n",
        "\n",
        "# Example usage\n",
        "c = Circle(5)\n",
        "print(\"Area of Circle\", c.area())\n",
        "\n",
        "r = Rectangle(4, 6)\n",
        "print(\"Area of Rectangle\", r.area())\n"
      ],
      "metadata": {
        "colab": {
          "base_uri": "https://localhost:8080/"
        },
        "id": "j6XaDXkW0tZL",
        "outputId": "3e0a6d9a-3f49-4d25-8d75-ac7fd1ba45aa"
      },
      "execution_count": 2,
      "outputs": [
        {
          "output_type": "stream",
          "name": "stdout",
          "text": [
            "Area of Circle: 78.53981633974483\n",
            "Area of Rectangle: 24\n"
          ]
        }
      ]
    },
    {
      "cell_type": "code",
      "source": [
        "#3. Implement a multi-level inheritance scenario where a class Vehicle has an attribute type. Derive a class Car and further derive a class ElectricCar that adds a battery attribute\n",
        "# Base class\n",
        "class Vehicle:\n",
        "    def __init__(self, type):\n",
        "        self.type = type\n",
        "\n",
        "    def display_type(self):\n",
        "        print(\"Vehicle Type\", self.type)\n",
        "\n",
        "# First-level derived class\n",
        "class Car(Vehicle):\n",
        "    def __init__(self, type, brand):\n",
        "        super().__init__(type)  # Call Vehicle's constructor\n",
        "        self.brand = brand\n",
        "\n",
        "    def display_brand(self):\n",
        "        print(\"Car Brand\", self.brand)\n",
        "\n",
        "# Second-level derived class\n",
        "class ElectricCar(Car):\n",
        "    def __init__(self, type, brand, battery):\n",
        "        super().__init__(type, brand)  # Call Car's constructor\n",
        "        self.battery = battery\n",
        "\n",
        "    def display_battery(self):\n",
        "        print(\"Battery Capacity\", self.battery)\n",
        "\n",
        "e_car = ElectricCar(\"Four Wheeler\", \"Tesla\", \"85 kWh\")\n",
        "\n",
        "e_car.display_type()\n",
        "e_car.display_brand()\n",
        "e_car.display_battery()"
      ],
      "metadata": {
        "colab": {
          "base_uri": "https://localhost:8080/"
        },
        "id": "IsIvelQb1RiV",
        "outputId": "76ccecd0-1a69-4303-93f0-2c22f60bd773"
      },
      "execution_count": 3,
      "outputs": [
        {
          "output_type": "stream",
          "name": "stdout",
          "text": [
            "Vehicle Type: Four Wheeler\n",
            "Car Brand: Tesla\n",
            "Battery Capacity: 85 kWh\n"
          ]
        }
      ]
    },
    {
      "cell_type": "code",
      "source": [
        "#4. Demonstrate polymorphism by creating a base class Bird with a method fly(). Create two derived classes Sparrow and Penguin that override the fly() method.\n",
        "\n",
        "# Base class\n",
        "class Bird:\n",
        "    def fly(self):\n",
        "        print(\"Bird is flying\")\n",
        "\n",
        "# Derived class 1\n",
        "class Sparrow(Bird):\n",
        "    def fly(self):\n",
        "        print(\"Sparrow flies high in the sky\")\n",
        "\n",
        "# Derived class 2\n",
        "class Penguin(Bird):\n",
        "    def fly(self):\n",
        "        print(\"Penguin can't fly, it swims instead\")\n",
        "\n",
        "# Example of Polymorphism\n",
        "def bird_flight(bird):\n",
        "    bird.fly()\n",
        "\n",
        "# Create objects\n",
        "b1 = Sparrow()\n",
        "b2 = Penguin()\n",
        "\n",
        "# Call the same method, different behavior\n",
        "bird_flight(b1)  # Output: Sparrow flies high in the sky\n",
        "bird_flight(b2)  # Output: Penguin can't fly, it swims instead\n"
      ],
      "metadata": {
        "colab": {
          "base_uri": "https://localhost:8080/"
        },
        "id": "833B448J2SXb",
        "outputId": "09198c25-16c3-4510-d11d-74041eb81b0b"
      },
      "execution_count": 4,
      "outputs": [
        {
          "output_type": "stream",
          "name": "stdout",
          "text": [
            "Sparrow flies high in the sky\n",
            "Penguin can't fly, it swims instead\n"
          ]
        }
      ]
    },
    {
      "cell_type": "code",
      "source": [
        " #5.Write a program to demonstrate encapsulation by creating a class BankAccount with private attributes balance and methods to deposit, withdraw, and check balance.\n",
        "\n",
        "class BankAccount:\n",
        "    def __init__(self, initial_balance):\n",
        "        self.__balance = initial_balance  # Private attribute\n",
        "\n",
        "    def deposit(self, amount):\n",
        "        if amount > 0:\n",
        "            self.__balance += amount\n",
        "            print(f\"Deposited ₹{amount}\")\n",
        "        else:\n",
        "            print(\"Invalid deposit amount\")\n",
        "\n",
        "    def withdraw(self, amount):\n",
        "        if 0 < amount <= self.__balance:\n",
        "            self.__balance -= amount\n",
        "            print(f\"Withdrawn ₹{amount}\")\n",
        "        else:\n",
        "            print(\"Insufficient balance or invalid amount\")\n",
        "\n",
        "    def check_balance(self):\n",
        "        print(f\"Current Balance ₹{self.__balance}\")\n",
        "\n",
        "\n",
        "account = BankAccount(1000)\n",
        "account.check_balance()\n",
        "\n",
        "account.deposit(500)\n",
        "account.check_balance()\n",
        "\n",
        "account.withdraw(700)\n",
        "account.check_balance()\n",
        "\n"
      ],
      "metadata": {
        "colab": {
          "base_uri": "https://localhost:8080/"
        },
        "id": "lQjMgHjp3P6R",
        "outputId": "65aaf35c-5d64-494d-a6d5-a2db48d012a5"
      },
      "execution_count": 5,
      "outputs": [
        {
          "output_type": "stream",
          "name": "stdout",
          "text": [
            "Current Balance: ₹1000\n",
            "Deposited: ₹500\n",
            "Current Balance: ₹1500\n",
            "Withdrawn: ₹700\n",
            "Current Balance: ₹800\n"
          ]
        }
      ]
    },
    {
      "cell_type": "code",
      "source": [
        "#7. Create a class MathOperations with a class method add_numbers() to add two numbers and a static method subtract_numbers() to subtract two numbers.\n",
        "\n",
        "class MathOperations:\n",
        "    # Class method to add two numbers\n",
        "    @classmethod\n",
        "    def add_numbers(cls, a, b):\n",
        "        return a + b\n",
        "\n",
        "    # Static method to subtract two numbers\n",
        "    @staticmethod\n",
        "    def subtract_numbers(a, b):\n",
        "        return a - b\n",
        "\n",
        "\n",
        "sum_result = MathOperations.add_numbers(10, 5)\n",
        "print(\"Sum:\", sum_result)\n",
        "difference = MathOperations.subtract_numbers(10, 5)\n",
        "print(\"Difference:\", difference)\n"
      ],
      "metadata": {
        "colab": {
          "base_uri": "https://localhost:8080/"
        },
        "id": "42YtR27Y3VMz",
        "outputId": "2218498a-3ffa-4632-c779-e17a7bbef1e0"
      },
      "execution_count": 1,
      "outputs": [
        {
          "output_type": "stream",
          "name": "stdout",
          "text": [
            "Sum: 15\n",
            "Difference: 5\n"
          ]
        }
      ]
    },
    {
      "cell_type": "code",
      "source": [
        "#8. Implement a class Person with a class method to count the total number of persons created.\n",
        "\n",
        "class Person:\n",
        "    count = 0\n",
        "\n",
        "    def __init__(self, name):\n",
        "        self.name = name\n",
        "        Person.count += 1\n",
        "\n",
        "    @classmethod\n",
        "    def total_persons(cls):\n",
        "        return cls.count\n",
        "\n",
        "p1 = Person(\"Adwait\")\n",
        "p2 = Person(\"Shivam\")\n",
        "p3 = Person(\"Shaad\")\n",
        "\n",
        "print(\"Total persons created\", Person.total_persons())\n"
      ],
      "metadata": {
        "colab": {
          "base_uri": "https://localhost:8080/"
        },
        "id": "j1dTW_m-3p2n",
        "outputId": "33a5de63-a4c9-4cba-b066-f041780263bc"
      },
      "execution_count": 3,
      "outputs": [
        {
          "output_type": "stream",
          "name": "stdout",
          "text": [
            "Total persons created 3\n"
          ]
        }
      ]
    },
    {
      "cell_type": "code",
      "source": [
        "#9. Write a class Fraction with attributes numerator and denominator. Override the str method to display the fraction as \"numerator/denominator\".\n",
        "\n",
        "class Fraction:\n",
        "    def __init__(self, numerator, denominator):\n",
        "        self.numerator = numerator\n",
        "        self.denominator = denominator\n",
        "\n",
        "    def __str__(self):\n",
        "        return f\"{self.numerator}/{self.denominator}\"\n",
        "\n",
        "f1 = Fraction(3, 4)\n",
        "print(f1)\n",
        "\n",
        "f2 = Fraction(7, 2)\n",
        "print(f2)"
      ],
      "metadata": {
        "colab": {
          "base_uri": "https://localhost:8080/"
        },
        "id": "1NOlQGo835qZ",
        "outputId": "bfae9a85-c6d9-422b-b967-ef0377fcfe69"
      },
      "execution_count": 4,
      "outputs": [
        {
          "output_type": "stream",
          "name": "stdout",
          "text": [
            "3/4\n",
            "7/2\n"
          ]
        }
      ]
    },
    {
      "cell_type": "code",
      "source": [
        "#10. Demonstrate operator overloading by creating a class Vector and overriding the add method to add two vectors.\n",
        "class Vector:\n",
        "    def __init__(self, x, y):\n",
        "        self.x = x\n",
        "        self.y = y\n",
        "\n",
        "    def __add__(self, other):\n",
        "        return Vector(self.x + other.x, self.y + other.y)\n",
        "\n",
        "    def __str__(self):\n",
        "        return f\"({self.x}, {self.y})\"\n",
        "\n",
        "v1 = Vector(2, 3)\n",
        "v2 = Vector(4, 5)\n",
        "\n",
        "v3 = v1 + v2\n",
        "print(\"Resultant Vector\", v3)"
      ],
      "metadata": {
        "colab": {
          "base_uri": "https://localhost:8080/"
        },
        "id": "gDh_JflC4Ggy",
        "outputId": "4e6ef493-abcb-412c-a995-01f71743d924"
      },
      "execution_count": 5,
      "outputs": [
        {
          "output_type": "stream",
          "name": "stdout",
          "text": [
            "Resultant Vector (6, 8)\n"
          ]
        }
      ]
    },
    {
      "cell_type": "code",
      "source": [
        "#11. Create a class Person with attributes name and age. Add a method greet() that prints \"Hello, my name is {name} and I am {age} years old.\"\n",
        "\n",
        "class Person:\n",
        "    def __init__(self, name, age):\n",
        "        self.name = name\n",
        "        self.age = age\n",
        "\n",
        "    def greet(self):\n",
        "        print(f\"Hlo, my name is {self.name} and I am {self.age} years old\")\n",
        "\n",
        "\n",
        "p1 = Person(\"Adwait\", 25)\n",
        "p1.greet()\n",
        "\n",
        "p2 = Person(\"Shivam\", 30)\n",
        "p2.greet()"
      ],
      "metadata": {
        "colab": {
          "base_uri": "https://localhost:8080/"
        },
        "id": "eW0yC9vs4THw",
        "outputId": "3d3d12ff-b705-408f-99b2-d295a9b50e6b"
      },
      "execution_count": 8,
      "outputs": [
        {
          "output_type": "stream",
          "name": "stdout",
          "text": [
            "Hlo, my name is Adwait and I am 25 years old\n",
            "Hlo, my name is Shivam and I am 30 years old\n"
          ]
        }
      ]
    },
    {
      "cell_type": "code",
      "source": [
        "#12. Implement a class Student with attributes name and grades. Create a method average_grade() to compute the average of the grades.\n",
        "\n",
        "class Student:\n",
        "    def __init__(self, name, grades):\n",
        "        self.name = name\n",
        "        self.grades = grades\n",
        "\n",
        "    def average_grade(self):\n",
        "        if not self.grades:\n",
        "            return 0\n",
        "        return sum(self.grades) / len(self.grades)\n",
        "\n",
        "\n",
        "s1 = Student(\"Adwait\", [80, 85, 90])\n",
        "print(f\"{s1.name} average grade {s1.average_grade():.2f}\")\n",
        "\n",
        "s2 = Student(\"Shivam\", [])\n",
        "print(f\"{s2.name}average grade {s2.average_grade():.2f}\")\n"
      ],
      "metadata": {
        "colab": {
          "base_uri": "https://localhost:8080/"
        },
        "id": "7Qg50-IG4dHT",
        "outputId": "b142e701-e81e-4e6e-b22b-6a06f9b6fe77"
      },
      "execution_count": 10,
      "outputs": [
        {
          "output_type": "stream",
          "name": "stdout",
          "text": [
            "Adwait average grade 85.00\n",
            "Shivamaverage grade 0.00\n"
          ]
        }
      ]
    },
    {
      "cell_type": "code",
      "source": [
        "# 13. Create a class Rectangle with methods set_dimensions() to set the dimensions and area() to calculate the area.\n",
        "\n",
        "class Rectangle:\n",
        "    def __init__(self):\n",
        "        self.length = 0\n",
        "        self.width = 0\n",
        "\n",
        "    def set_dimensions(self, length, width):\n",
        "        self.length = length\n",
        "        self.width = width\n",
        "\n",
        "    def area(self):\n",
        "        return self.length * self.width\n",
        "\n",
        "r1 = Rectangle()\n",
        "r1.set_dimensions(10, 5)\n",
        "print(\"Area of rectangle\", r1.area())  # Output: 50\n"
      ],
      "metadata": {
        "colab": {
          "base_uri": "https://localhost:8080/"
        },
        "id": "0a8KQyMR8iCN",
        "outputId": "86261012-c6c1-4464-fec7-5006e3120156"
      },
      "execution_count": 11,
      "outputs": [
        {
          "output_type": "stream",
          "name": "stdout",
          "text": [
            "Area of rectangle 50\n"
          ]
        }
      ]
    },
    {
      "cell_type": "code",
      "source": [
        "#14. Create a class Employee with a method calculate_salary() that computes the salary based on hours worked and hourly rate. Create a derived class Manager that adds a bonus to the salary.\n",
        "\n",
        "# Base class\n",
        "class Employee:\n",
        "    def __init__(self, name, hours_worked, hourly_rate):\n",
        "        self.name = name\n",
        "        self.hours_worked = hours_worked\n",
        "        self.hourly_rate = hourly_rate\n",
        "\n",
        "    def calculate_salary(self):\n",
        "        return self.hours_worked * self.hourly_rate\n",
        "\n",
        "# Derived class\n",
        "class Manager(Employee):\n",
        "    def __init__(self, name, hours_worked, hourly_rate, bonus):\n",
        "        super().__init__(name, hours_worked, hourly_rate)\n",
        "        self.bonus = bonus\n",
        "\n",
        "    def calculate_salary(self):\n",
        "        base_salary = super().calculate_salary()\n",
        "        return base_salary + self.bonus\n",
        "\n",
        "emp = Employee(\"Adwait\", 40, 300)\n",
        "print(f\"{emp.name} Salary {emp.calculate_salary()}\")\n",
        "mgr = Manager(\"Shivam\", 40, 300, 5000)\n",
        "print(f\"{mgr.name} Salary {mgr.calculate_salary()}\")\n"
      ],
      "metadata": {
        "colab": {
          "base_uri": "https://localhost:8080/"
        },
        "id": "REeAHb-R8vAY",
        "outputId": "c3780b6d-ac61-46db-ac8a-9c91d2e34e7f"
      },
      "execution_count": 12,
      "outputs": [
        {
          "output_type": "stream",
          "name": "stdout",
          "text": [
            "Adwait Salary 12000\n",
            "Shivam Salary 17000\n"
          ]
        }
      ]
    },
    {
      "cell_type": "code",
      "source": [
        "#15. Create a class Product with attributes name, price, and quantity. Implement a method total_price() that calculates the total price of the product.\n",
        "\n",
        "class Product:\n",
        "    def __init__(self, name, price, quantity):\n",
        "        self.name = name\n",
        "        self.price = price\n",
        "        self.quantity = quantity\n",
        "\n",
        "    def total_price(self):\n",
        "        return self.price * self.quantity\n",
        "\n",
        "p1 = Product(\"Laptop\", 50000, 2)\n",
        "print(f\"Total price for {p1.name} {p1.total_price()}\")\n",
        "\n",
        "p2 = Product(\"Pen\", 10, 5)\n",
        "print(f\"Total price for {p2.name} {p2.total_price()}\")\n"
      ],
      "metadata": {
        "colab": {
          "base_uri": "https://localhost:8080/"
        },
        "id": "HYjv-fKJ9Ftu",
        "outputId": "8fb37760-8b5a-45a1-efa7-29c14113574e"
      },
      "execution_count": 14,
      "outputs": [
        {
          "output_type": "stream",
          "name": "stdout",
          "text": [
            "Total price for Laptop 100000\n",
            "Total price for Pen 50\n"
          ]
        }
      ]
    },
    {
      "cell_type": "code",
      "source": [
        "#16. Create a class Animal with an abstract method sound(). Create two derived classes Cow and Sheep that implement the sound() method.\n",
        "\n",
        "from abc import ABC, abstractmethod\n",
        "\n",
        "# Abstract base class\n",
        "class Animal(ABC):\n",
        "    @abstractmethod\n",
        "    def sound(self):\n",
        "        pass\n",
        "\n",
        "# Derived class 1\n",
        "class Cow(Animal):\n",
        "    def sound(self):\n",
        "        return \"Moooooooooooooooo Mooooooooooo\"\n",
        "\n",
        "# Derived class 2\n",
        "class Sheep(Animal):\n",
        "    def sound(self):\n",
        "        return \"BaaAAA BAAAAAAAAAAA\"\n",
        "\n",
        "\n",
        "cow = Cow()\n",
        "sheep = Sheep()\n",
        "\n",
        "print(\"Cow sound\", cow.sound())\n",
        "print(\"Sheep sound\", sheep.sound())\n"
      ],
      "metadata": {
        "colab": {
          "base_uri": "https://localhost:8080/"
        },
        "id": "YfjQpQsh9YC5",
        "outputId": "d70453d5-ae6a-49fb-c6a4-166af589e7fc"
      },
      "execution_count": 16,
      "outputs": [
        {
          "output_type": "stream",
          "name": "stdout",
          "text": [
            "Cow sound Moooooooooooooooo Mooooooooooo\n",
            "Sheep sound BaaAAA BAAAAAAAAAAA\n"
          ]
        }
      ]
    },
    {
      "cell_type": "code",
      "source": [
        "#17. Create a class Book with attributes title, author, and year_published. Add a method get_book_info() that returns a formatted string with the book's details.\n",
        "\n",
        "class Book:\n",
        "    def __init__(self, title, author, year_published):\n",
        "        self.title = title\n",
        "        self.author = author\n",
        "        self.year_published = year_published\n",
        "\n",
        "    def get_book_info(self):\n",
        "        return f\"'{self.title}' by {self.author}, published in {self.year_published}\"\n",
        "\n",
        "book1 = Book(\"India's Most Fearless\", \"Rahul Singh\", 2019)\n",
        "print(book1.get_book_info())\n",
        "\n",
        "book2 = Book(\"wings of fire\", \"APJ\", 1999)\n",
        "print(book2.get_book_info())\n"
      ],
      "metadata": {
        "colab": {
          "base_uri": "https://localhost:8080/"
        },
        "id": "O7tx_mnn9pNm",
        "outputId": "5e89ee0a-25e4-48c9-b095-3066dd7eb24a"
      },
      "execution_count": 19,
      "outputs": [
        {
          "output_type": "stream",
          "name": "stdout",
          "text": [
            "'India's Most Fearless' by Rahul Singh, published in 2019\n",
            "'wings of fire' by APJ, published in 1999\n"
          ]
        }
      ]
    },
    {
      "cell_type": "code",
      "source": [
        "#18. Create a class House with attributes address and price. Create a derived class Mansion that adds an attribute number_of_rooms.\n",
        "\n",
        "# Base class\n",
        "class House:\n",
        "    def __init__(self, address, price):\n",
        "        self.address = address\n",
        "        self.price = price\n",
        "\n",
        "    def display_info(self):\n",
        "        print(f\"Address: {self.address}\")\n",
        "        print(f\"Price: ₹{self.price}\")\n",
        "\n",
        "# Derived class\n",
        "class Mansion(House):\n",
        "    def __init__(self, address, price, number_of_rooms):\n",
        "        super().__init__(address, price)  # Call parent constructor\n",
        "        self.number_of_rooms = number_of_rooms\n",
        "\n",
        "    def display_info(self):\n",
        "        super().display_info()\n",
        "        print(f\"Number of Rooms: {self.number_of_rooms}\")\n",
        "\n",
        "m1 = Mansion(\"Twin tower, Noida\", 100000000, 12)\n",
        "m1.display_info()\n"
      ],
      "metadata": {
        "colab": {
          "base_uri": "https://localhost:8080/"
        },
        "id": "ipA3dBpi99C-",
        "outputId": "90f9622e-8536-46ca-e422-bcb006025286"
      },
      "execution_count": 22,
      "outputs": [
        {
          "output_type": "stream",
          "name": "stdout",
          "text": [
            "Address: Twin tower, Noida\n",
            "Price: ₹100000000\n",
            "Number of Rooms: 12\n"
          ]
        }
      ]
    }
  ]
}